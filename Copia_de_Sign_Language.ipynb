{
  "nbformat": 4,
  "nbformat_minor": 0,
  "metadata": {
    "colab": {
      "name": "Copia de Sign-Language.ipynb",
      "version": "0.3.2",
      "provenance": [],
      "collapsed_sections": [],
      "include_colab_link": true
    },
    "kernelspec": {
      "name": "python3",
      "display_name": "Python 3"
    },
    "accelerator": "GPU"
  },
  "cells": [
    {
      "cell_type": "markdown",
      "metadata": {
        "id": "view-in-github",
        "colab_type": "text"
      },
      "source": [
        "<a href=\"https://colab.research.google.com/github/OrlandoPadron/FSI-Red_Convolutiva/blob/master/Copia_de_Sign_Language.ipynb\" target=\"_parent\"><img src=\"https://colab.research.google.com/assets/colab-badge.svg\" alt=\"Open In Colab\"/></a>"
      ]
    },
    {
      "cell_type": "markdown",
      "metadata": {
        "id": "cXD8sjjQLj-k",
        "colab_type": "text"
      },
      "source": [
        "# Reconocedor de lengua de signos\n",
        "\n",
        "Vamos a desarrollar una red que reconozca lengua de signos. Para ello, vamos a utilizar un dataset contenido en nuestra cuenta de Google Drive. Antes, debemos montar nuestro sistema de archivos de Google Drive para hacerlo accesible desde este *notebook*. Google nos solicitará permiso, tenemos que copiar y pegar el código que nos suministra."
      ]
    },
    {
      "cell_type": "code",
      "metadata": {
        "id": "yZcKFL_TMkzR",
        "colab_type": "code",
        "outputId": "d3aeba29-3fc5-4578-e9ec-d424c333aa43",
        "colab": {
          "base_uri": "https://localhost:8080/",
          "height": 34
        }
      },
      "source": [
        "from google.colab import drive\n",
        "drive.mount('/content/drive')"
      ],
      "execution_count": 0,
      "outputs": [
        {
          "output_type": "stream",
          "text": [
            "Drive already mounted at /content/drive; to attempt to forcibly remount, call drive.mount(\"/content/drive\", force_remount=True).\n"
          ],
          "name": "stdout"
        }
      ]
    },
    {
      "cell_type": "markdown",
      "metadata": {
        "id": "Z_29d5tsNgE4",
        "colab_type": "text"
      },
      "source": [
        "Ahora ya es accesible"
      ]
    },
    {
      "cell_type": "markdown",
      "metadata": {
        "id": "9GJsa2DPRE5C",
        "colab_type": "text"
      },
      "source": [
        "¿Estoy realmente utilizando una GPU? Compruébalo en **Editar / Configuración del cuaderno** o **Entorno de ejecuación / Cambiar tipo de entorno de ejecución**"
      ]
    },
    {
      "cell_type": "code",
      "metadata": {
        "id": "x3JBgGOsKu44",
        "colab_type": "code",
        "outputId": "d0dd9bd6-7d53-478d-e71c-a9fa03d913f8",
        "colab": {
          "base_uri": "https://localhost:8080/",
          "height": 303
        }
      },
      "source": [
        "!ls \"/content/drive/My Drive/Colab Notebooks/datasets\"\n",
        "\n",
        "from matplotlib.pyplot import imshow\n",
        "import numpy as np\n",
        "from PIL import Image\n",
        "\n",
        "%matplotlib inline\n",
        "pil_im = Image.open('/content/drive/My Drive/Colab Notebooks/datasets/Sign-Language/4/IMG_1132.JPG', 'r')\n",
        "imshow(np.asarray(pil_im))\n",
        "\n"
      ],
      "execution_count": 0,
      "outputs": [
        {
          "output_type": "stream",
          "text": [
            "dogs_and_cats  Sign-Language\n"
          ],
          "name": "stdout"
        },
        {
          "output_type": "execute_result",
          "data": {
            "text/plain": [
              "<matplotlib.image.AxesImage at 0x7fd6f74194a8>"
            ]
          },
          "metadata": {
            "tags": []
          },
          "execution_count": 4
        },
        {
          "output_type": "display_data",
          "data": {
            "image/png": "[encoded data removed]",
            "text/plain": [
              "<Figure size 432x288 with 1 Axes>"
            ]
          },
          "metadata": {
            "tags": []
          }
        }
      ]
    },
    {
      "cell_type": "code",
      "metadata": {
        "id": "eKjrirLcRIkU",
        "colab_type": "code",
        "outputId": "e33274cf-5aa2-4e94-bbb1-f4e975cc4f82",
        "colab": {
          "base_uri": "https://localhost:8080/",
          "height": 35
        }
      },
      "source": [
        "import tensorflow as tf\n",
        "tf.test.gpu_device_name()"
      ],
      "execution_count": 0,
      "outputs": [
        {
          "output_type": "execute_result",
          "data": {
            "text/plain": [
              "'/device:GPU:0'"
            ]
          },
          "metadata": {
            "tags": []
          },
          "execution_count": 4
        }
      ]
    },
    {
      "cell_type": "markdown",
      "metadata": {
        "id": "UCaBgMS8OdiV",
        "colab_type": "text"
      },
      "source": [
        "## Primer modelo"
      ]
    },
    {
      "cell_type": "code",
      "metadata": {
        "id": "KE6j7-r0OgXA",
        "colab_type": "code",
        "outputId": "87891735-17ae-4821-e601-850e5e553b4a",
        "colab": {
          "base_uri": "https://localhost:8080/",
          "height": 763
        }
      },
      "source": [
        "from keras.preprocessing.image import ImageDataGenerator\n",
        "from keras.models import Sequential\n",
        "from keras.layers import Dense, Dropout\n",
        "from keras.optimizers import RMSprop\n",
        "from keras.layers import Dense, Dropout, Flatten\n",
        "from keras.layers import Conv2D, MaxPooling2D\n",
        "from keras import backend as K\n",
        "import keras\n",
        "from time import time\n",
        "\n",
        "\n",
        "# DATA SOURCE --------------------------------------------------\n",
        "\n",
        "batch_size = 20\n",
        "\n",
        "train_data_dir = '/content/drive/My Drive/Colab Notebooks/datasets/Sign-Language'\n",
        "validation_data_dir = '/content/drive/My Drive/Colab Notebooks/datasets/Sign-Language'\n",
        "\n",
        "train_datagen = ImageDataGenerator(\n",
        "        rescale=1./255,\n",
        "        shear_range=0.2,\n",
        "        zoom_range=0.2,\n",
        "        horizontal_flip=True)\n",
        "\n",
        "test_datagen = ImageDataGenerator(rescale=1./255)\n",
        "\n",
        "train_generator = train_datagen.flow_from_directory(\n",
        "        train_data_dir,\n",
        "        target_size=(150, 150),\n",
        "        batch_size=batch_size,\n",
        "        class_mode='categorical')\n",
        "\n",
        "validation_generator = test_datagen.flow_from_directory(\n",
        "        validation_data_dir,\n",
        "        target_size=(150, 150),\n",
        "        batch_size=32,\n",
        "        class_mode='categorical')\n",
        "\n",
        "# MODEL --------------------------------------------------\n",
        "\n",
        "model = Sequential()\n",
        "model.add(Conv2D(32, kernel_size=(3, 3),\n",
        "                 activation='relu',\n",
        "                 input_shape=(150, 150, 3)))\n",
        "model.add(MaxPooling2D(pool_size=(2, 2)))\n",
        "model.add(Conv2D(64, (3, 3), activation='relu'))\n",
        "model.add(MaxPooling2D(pool_size=(2, 2)))\n",
        "model.add(Dropout(0.25))\n",
        "model.add(Flatten())\n",
        "model.add(Dense(128, activation='relu'))\n",
        "\n",
        "model.add(Dropout(0.5))\n",
        "model.add(Dense(10, activation='softmax'))\n",
        "\n",
        "model.compile(loss=keras.losses.categorical_crossentropy,\n",
        "              optimizer=keras.optimizers.Adadelta(),\n",
        "              metrics=['accuracy'])\n",
        "\n",
        "# TRAINING --------------------------------------------------\n",
        "\n",
        "epochs = 20\n",
        "\n",
        "model.fit_generator(\n",
        "        train_generator,\n",
        "        steps_per_epoch=100,\n",
        "        epochs=epochs, \n",
        "        validation_data=validation_generator,\n",
        "        validation_steps=800,\n",
        ")"
      ],
      "execution_count": 0,
      "outputs": [
        {
          "output_type": "stream",
          "text": [
            "Found 2062 images belonging to 10 classes.\n",
            "Found 2062 images belonging to 10 classes.\n",
            "Epoch 1/20\n",
            "100/100 [==============================] - 97s 965ms/step - loss: 2.3896 - acc: 0.1890 - val_loss: 1.8808 - val_acc: 0.4048\n",
            "Epoch 2/20\n",
            "100/100 [==============================] - 94s 940ms/step - loss: 1.7700 - acc: 0.4075 - val_loss: 1.0522 - val_acc: 0.6564\n",
            "Epoch 3/20\n",
            "100/100 [==============================] - 94s 936ms/step - loss: 1.3520 - acc: 0.5365 - val_loss: 0.7755 - val_acc: 0.7712\n",
            "Epoch 4/20\n",
            "100/100 [==============================] - 94s 938ms/step - loss: 1.0997 - acc: 0.6116 - val_loss: 0.7463 - val_acc: 0.7645\n",
            "Epoch 5/20\n",
            "100/100 [==============================] - 95s 946ms/step - loss: 1.0323 - acc: 0.6495 - val_loss: 0.5552 - val_acc: 0.8200\n",
            "Epoch 6/20\n",
            "100/100 [==============================] - 94s 936ms/step - loss: 0.9612 - acc: 0.6730 - val_loss: 0.4814 - val_acc: 0.8559\n",
            "Epoch 7/20\n",
            "100/100 [==============================] - 93s 930ms/step - loss: 0.8675 - acc: 0.7205 - val_loss: 0.4758 - val_acc: 0.8533\n",
            "Epoch 8/20\n",
            "100/100 [==============================] - 95s 951ms/step - loss: 0.7815 - acc: 0.7395 - val_loss: 0.4085 - val_acc: 0.8735\n",
            "Epoch 9/20\n",
            "100/100 [==============================] - 94s 941ms/step - loss: 0.7632 - acc: 0.7495 - val_loss: 0.3531 - val_acc: 0.8927\n",
            "Epoch 10/20\n",
            "100/100 [==============================] - 94s 937ms/step - loss: 0.7082 - acc: 0.7655 - val_loss: 0.3248 - val_acc: 0.9021\n",
            "Epoch 11/20\n",
            "100/100 [==============================] - 94s 939ms/step - loss: 0.7011 - acc: 0.7630 - val_loss: 0.3288 - val_acc: 0.8958\n",
            "Epoch 12/20\n",
            "100/100 [==============================] - 94s 937ms/step - loss: 0.6370 - acc: 0.7860 - val_loss: 0.2847 - val_acc: 0.9164\n",
            "Epoch 13/20\n",
            "100/100 [==============================] - 93s 929ms/step - loss: 0.6535 - acc: 0.7735 - val_loss: 0.4801 - val_acc: 0.8629\n",
            "Epoch 14/20\n",
            "100/100 [==============================] - 94s 936ms/step - loss: 0.5890 - acc: 0.8070 - val_loss: 0.2668 - val_acc: 0.9176\n",
            "Epoch 15/20\n",
            "100/100 [==============================] - 96s 955ms/step - loss: 0.5594 - acc: 0.8100 - val_loss: 0.2632 - val_acc: 0.9181\n",
            "Epoch 16/20\n",
            "100/100 [==============================] - 94s 942ms/step - loss: 0.5527 - acc: 0.8175 - val_loss: 0.2384 - val_acc: 0.9297\n",
            "Epoch 17/20\n",
            "100/100 [==============================] - 93s 927ms/step - loss: 0.5092 - acc: 0.8280 - val_loss: 0.1995 - val_acc: 0.9445\n",
            "Epoch 18/20\n",
            "100/100 [==============================] - 95s 952ms/step - loss: 0.5006 - acc: 0.8305 - val_loss: 0.1896 - val_acc: 0.9419\n",
            "Epoch 19/20\n",
            "100/100 [==============================] - 93s 934ms/step - loss: 0.5190 - acc: 0.8240 - val_loss: 0.1846 - val_acc: 0.9478\n",
            "Epoch 20/20\n",
            "100/100 [==============================] - 93s 928ms/step - loss: 0.4519 - acc: 0.8465 - val_loss: 0.1715 - val_acc: 0.9577\n"
          ],
          "name": "stdout"
        },
        {
          "output_type": "execute_result",
          "data": {
            "text/plain": [
              "<keras.callbacks.History at 0x7f2cca6b29e8>"
            ]
          },
          "metadata": {
            "tags": []
          },
          "execution_count": 6
        }
      ]
    },
    {
      "cell_type": "markdown",
      "metadata": {
        "id": "WDyt-HzazFGZ",
        "colab_type": "text"
      },
      "source": [
        "#NUEVO DATASET\n",
        "Añadimos un nuevo dataset (Dataset de Perros y Gatos). Dense = 2 por el número de clases de nuestro dataset (Perro/Gatos)."
      ]
    },
    {
      "cell_type": "code",
      "metadata": {
        "id": "gFYsCnPHzLb6",
        "colab_type": "code",
        "outputId": "c54b42fb-3fe6-47e8-a92c-5be5d9df8f1c",
        "colab": {
          "base_uri": "https://localhost:8080/",
          "height": 901
        }
      },
      "source": [
        "from keras.preprocessing.image import ImageDataGenerator\n",
        "from keras.models import Sequential\n",
        "from keras.layers import Dense, Dropout\n",
        "from keras.optimizers import RMSprop\n",
        "from keras.layers import Dense, Dropout, Flatten\n",
        "from keras.layers import Conv2D, MaxPooling2D\n",
        "from keras import backend as K\n",
        "import keras\n",
        "from time import time\n",
        "\n",
        "\n",
        "# DATA SOURCE --------------------------------------------------\n",
        "\n",
        "batch_size = 20\n",
        "\n",
        "train_data_dir = '/content/drive/My Drive/Colab Notebooks/datasets/dogs_and_cats/train'\n",
        "validation_data_dir = '/content/drive/My Drive/Colab Notebooks/datasets/dogs_and_cats/validation'\n",
        "\n",
        "train_datagen = ImageDataGenerator(\n",
        "        rescale=1./255,\n",
        "        shear_range=0.2,\n",
        "        zoom_range=0.2,\n",
        "        horizontal_flip=True)\n",
        "\n",
        "test_datagen = ImageDataGenerator(rescale=1./255)\n",
        "\n",
        "train_generator = train_datagen.flow_from_directory(\n",
        "        train_data_dir,\n",
        "        target_size=(150, 150),\n",
        "        batch_size=batch_size,\n",
        "        class_mode='categorical')\n",
        "\n",
        "validation_generator = test_datagen.flow_from_directory(\n",
        "        validation_data_dir,\n",
        "        target_size=(150, 150),\n",
        "        batch_size=32,\n",
        "        class_mode='categorical')\n",
        "\n",
        "# MODEL --------------------------------------------------\n",
        "\n",
        "model = Sequential()\n",
        "model.add(Conv2D(32, kernel_size=(3, 3),\n",
        "                 activation='relu',\n",
        "                 input_shape=(150, 150, 3)))\n",
        "model.add(MaxPooling2D(pool_size=(2, 2)))\n",
        "model.add(Conv2D(64, (3, 3), activation='relu'))\n",
        "model.add(MaxPooling2D(pool_size=(2, 2)))\n",
        "model.add(Dropout(0.25))\n",
        "model.add(Flatten())\n",
        "model.add(Dense(128, activation='relu'))\n",
        "\n",
        "model.add(Dropout(0.5))\n",
        "model.add(Dense(2, activation='softmax'))\n",
        "\n",
        "model.compile(loss=keras.losses.categorical_crossentropy,\n",
        "              optimizer=keras.optimizers.Adadelta(),\n",
        "              metrics=['accuracy'])\n",
        "\n",
        "# TRAINING --------------------------------------------------\n",
        "\n",
        "epochs = 20\n",
        "\n",
        "model.fit_generator(\n",
        "        train_generator,\n",
        "        steps_per_epoch=200,\n",
        "        epochs=epochs, \n",
        "        validation_data=validation_generator,\n",
        "        validation_steps=2000,\n",
        ")"
      ],
      "execution_count": 0,
      "outputs": [
        {
          "output_type": "stream",
          "text": [
            "Found 2000 images belonging to 2 classes.\n",
            "Found 1002 images belonging to 2 classes.\n",
            "WARNING:tensorflow:From /usr/local/lib/python3.6/dist-packages/tensorflow/python/framework/op_def_library.py:263: colocate_with (from tensorflow.python.framework.ops) is deprecated and will be removed in a future version.\n",
            "Instructions for updating:\n",
            "Colocations handled automatically by placer.\n",
            "WARNING:tensorflow:From /usr/local/lib/python3.6/dist-packages/keras/backend/tensorflow_backend.py:3445: calling dropout (from tensorflow.python.ops.nn_ops) with keep_prob is deprecated and will be removed in a future version.\n",
            "Instructions for updating:\n",
            "Please use `rate` instead of `keep_prob`. Rate should be set to `rate = 1 - keep_prob`.\n",
            "WARNING:tensorflow:From /usr/local/lib/python3.6/dist-packages/tensorflow/python/ops/math_ops.py:3066: to_int32 (from tensorflow.python.ops.math_ops) is deprecated and will be removed in a future version.\n",
            "Instructions for updating:\n",
            "Use tf.cast instead.\n",
            "Epoch 1/20\n",
            "200/200 [==============================] - 1067s 5s/step - loss: 0.7549 - acc: 0.5500 - val_loss: 0.6582 - val_acc: 0.6151\n",
            "Epoch 2/20\n",
            "200/200 [==============================] - 269s 1s/step - loss: 0.6516 - acc: 0.6355 - val_loss: 0.7951 - val_acc: 0.5458\n",
            "Epoch 3/20\n",
            "200/200 [==============================] - 269s 1s/step - loss: 0.6042 - acc: 0.6800 - val_loss: 0.6013 - val_acc: 0.6896\n",
            "Epoch 4/20\n",
            "200/200 [==============================] - 269s 1s/step - loss: 0.5586 - acc: 0.7222 - val_loss: 0.5511 - val_acc: 0.7135\n",
            "Epoch 5/20\n",
            "200/200 [==============================] - 267s 1s/step - loss: 0.5340 - acc: 0.7423 - val_loss: 0.5386 - val_acc: 0.7156\n",
            "Epoch 6/20\n",
            "200/200 [==============================] - 266s 1s/step - loss: 0.4992 - acc: 0.7583 - val_loss: 0.5671 - val_acc: 0.7206\n",
            "Epoch 7/20\n",
            "200/200 [==============================] - 265s 1s/step - loss: 0.4861 - acc: 0.7675 - val_loss: 0.5790 - val_acc: 0.7185\n",
            "Epoch 8/20\n",
            "200/200 [==============================] - 269s 1s/step - loss: 0.4450 - acc: 0.7965 - val_loss: 0.5437 - val_acc: 0.7317\n",
            "Epoch 9/20\n",
            "200/200 [==============================] - 269s 1s/step - loss: 0.4332 - acc: 0.7948 - val_loss: 0.4878 - val_acc: 0.7603\n",
            "Epoch 10/20\n",
            "200/200 [==============================] - 268s 1s/step - loss: 0.4060 - acc: 0.8173 - val_loss: 0.4934 - val_acc: 0.7616\n",
            "Epoch 11/20\n",
            "200/200 [==============================] - 268s 1s/step - loss: 0.3859 - acc: 0.8265 - val_loss: 0.5562 - val_acc: 0.7473\n",
            "Epoch 12/20\n",
            "200/200 [==============================] - 268s 1s/step - loss: 0.3681 - acc: 0.8348 - val_loss: 0.5241 - val_acc: 0.7546\n",
            "Epoch 13/20\n",
            "200/200 [==============================] - 266s 1s/step - loss: 0.3498 - acc: 0.8552 - val_loss: 0.5404 - val_acc: 0.7784\n",
            "Epoch 14/20\n",
            "200/200 [==============================] - 266s 1s/step - loss: 0.3321 - acc: 0.8568 - val_loss: 0.5652 - val_acc: 0.7596\n",
            "Epoch 15/20\n",
            "200/200 [==============================] - 264s 1s/step - loss: 0.3035 - acc: 0.8740 - val_loss: 0.6036 - val_acc: 0.7662\n",
            "Epoch 16/20\n",
            "200/200 [==============================] - 267s 1s/step - loss: 0.2997 - acc: 0.8697 - val_loss: 0.5365 - val_acc: 0.7656\n",
            "Epoch 17/20\n",
            "200/200 [==============================] - 268s 1s/step - loss: 0.2781 - acc: 0.8835 - val_loss: 0.6032 - val_acc: 0.7742\n",
            "Epoch 18/20\n",
            "200/200 [==============================] - 276s 1s/step - loss: 0.2614 - acc: 0.8927 - val_loss: 0.6003 - val_acc: 0.7737\n",
            "Epoch 19/20\n",
            "200/200 [==============================] - 272s 1s/step - loss: 0.2554 - acc: 0.8992 - val_loss: 0.7196 - val_acc: 0.7634\n",
            "Epoch 20/20\n",
            "200/200 [==============================] - 267s 1s/step - loss: 0.2403 - acc: 0.9040 - val_loss: 0.6151 - val_acc: 0.7585\n"
          ],
          "name": "stdout"
        },
        {
          "output_type": "execute_result",
          "data": {
            "text/plain": [
              "<keras.callbacks.History at 0x7fd6f42bcf28>"
            ]
          },
          "metadata": {
            "tags": []
          },
          "execution_count": 5
        }
      ]
    },
    {
      "cell_type": "markdown",
      "metadata": {
        "id": "OECnq3GwDANV",
        "colab_type": "text"
      },
      "source": [
        "# Probando con clase 'binary'"
      ]
    },
    {
      "cell_type": "code",
      "metadata": {
        "id": "vYvoyFREC7so",
        "colab_type": "code",
        "outputId": "9b64bd75-2175-42e5-dceb-402d0452d5f5",
        "colab": {
          "base_uri": "https://localhost:8080/",
          "height": 748
        }
      },
      "source": [
        "from keras.preprocessing.image import ImageDataGenerator\n",
        "from keras.models import Sequential\n",
        "from keras.layers import Dense, Dropout\n",
        "from keras.optimizers import RMSprop\n",
        "from keras.layers import Dense, Dropout, Flatten\n",
        "from keras.layers import Conv2D, MaxPooling2D\n",
        "from keras import backend as K\n",
        "import keras\n",
        "from time import time\n",
        "\n",
        "\n",
        "# DATA SOURCE --------------------------------------------------\n",
        "\n",
        "batch_size = 20\n",
        "\n",
        "train_data_dir = '/content/drive/My Drive/Colab Notebooks/datasets/dogs_and_cats/train'\n",
        "validation_data_dir = '/content/drive/My Drive/Colab Notebooks/datasets/dogs_and_cats/validation'\n",
        "\n",
        "train_datagen = ImageDataGenerator(\n",
        "        rescale=1./255,\n",
        "        shear_range=0.2,\n",
        "        zoom_range=0.2,\n",
        "        horizontal_flip=True)\n",
        "\n",
        "test_datagen = ImageDataGenerator(rescale=1./255)\n",
        "\n",
        "train_generator = train_datagen.flow_from_directory(\n",
        "        train_data_dir,\n",
        "        target_size=(150, 150),\n",
        "        batch_size=batch_size,\n",
        "        class_mode='binary')\n",
        "\n",
        "validation_generator = test_datagen.flow_from_directory(\n",
        "        validation_data_dir,\n",
        "        target_size=(150, 150),\n",
        "        batch_size=32,\n",
        "        class_mode='binary')\n",
        "\n",
        "# MODEL --------------------------------------------------\n",
        "\n",
        "model = Sequential()\n",
        "model.add(Conv2D(32, kernel_size=(3, 3),\n",
        "                 activation='relu',\n",
        "                 input_shape=(150, 150, 3)))\n",
        "model.add(MaxPooling2D(pool_size=(2, 2)))\n",
        "model.add(Conv2D(64, (3, 3), activation='relu'))\n",
        "model.add(MaxPooling2D(pool_size=(2, 2)))\n",
        "model.add(Dropout(0.25))\n",
        "model.add(Flatten())\n",
        "model.add(Dense(128, activation='relu'))\n",
        "\n",
        "model.add(Dropout(0.5))\n",
        "model.add(Dense(1, activation='sigmoid'))\n",
        "\n",
        "model.compile(loss=keras.losses.binary_crossentropy,\n",
        "              optimizer=keras.optimizers.Adadelta(),\n",
        "              metrics=['accuracy'])\n",
        "\n",
        "# TRAINING --------------------------------------------------\n",
        "\n",
        "epochs = 20\n",
        "\n",
        "model.fit_generator(\n",
        "        train_generator,\n",
        "        steps_per_epoch=200,\n",
        "        epochs=epochs, \n",
        "        validation_data=validation_generator,\n",
        "        validation_steps=2000,\n",
        ")"
      ],
      "execution_count": 0,
      "outputs": [
        {
          "output_type": "stream",
          "text": [
            "Found 2000 images belonging to 2 classes.\n",
            "Found 1002 images belonging to 2 classes.\n",
            "Epoch 1/20\n",
            "200/200 [==============================] - 794s 4s/step - loss: 0.7250 - acc: 0.5443 - val_loss: 0.6547 - val_acc: 0.5929\n",
            "Epoch 2/20\n",
            "200/200 [==============================] - 278s 1s/step - loss: 0.6457 - acc: 0.6287 - val_loss: 0.6223 - val_acc: 0.6626\n",
            "Epoch 3/20\n",
            "200/200 [==============================] - 282s 1s/step - loss: 0.5957 - acc: 0.6885 - val_loss: 0.5620 - val_acc: 0.7154\n",
            "Epoch 4/20\n",
            "200/200 [==============================] - 279s 1s/step - loss: 0.5623 - acc: 0.7075 - val_loss: 0.5511 - val_acc: 0.7247\n",
            "Epoch 5/20\n",
            "200/200 [==============================] - 276s 1s/step - loss: 0.5233 - acc: 0.7495 - val_loss: 0.5450 - val_acc: 0.7206\n",
            "Epoch 6/20\n",
            "200/200 [==============================] - 273s 1s/step - loss: 0.5035 - acc: 0.7568 - val_loss: 0.5469 - val_acc: 0.7264\n",
            "Epoch 7/20\n",
            "200/200 [==============================] - 266s 1s/step - loss: 0.4761 - acc: 0.7703 - val_loss: 0.5052 - val_acc: 0.7525\n",
            "Epoch 8/20\n",
            "200/200 [==============================] - 263s 1s/step - loss: 0.4659 - acc: 0.7863 - val_loss: 0.4932 - val_acc: 0.7585\n",
            "Epoch 9/20\n",
            "200/200 [==============================] - 264s 1s/step - loss: 0.4387 - acc: 0.7962 - val_loss: 0.5184 - val_acc: 0.7316\n",
            "Epoch 10/20\n",
            "200/200 [==============================] - 268s 1s/step - loss: 0.4208 - acc: 0.8035 - val_loss: 0.4862 - val_acc: 0.7626\n",
            "Epoch 11/20\n",
            "200/200 [==============================] - 266s 1s/step - loss: 0.4072 - acc: 0.8213 - val_loss: 0.5023 - val_acc: 0.7655\n",
            "Epoch 12/20\n",
            "200/200 [==============================] - 266s 1s/step - loss: 0.3689 - acc: 0.8370 - val_loss: 0.4933 - val_acc: 0.7715\n",
            "Epoch 13/20\n",
            "200/200 [==============================] - 267s 1s/step - loss: 0.3727 - acc: 0.8315 - val_loss: 0.5632 - val_acc: 0.7337\n",
            "Epoch 14/20\n",
            "200/200 [==============================] - 264s 1s/step - loss: 0.3457 - acc: 0.8507 - val_loss: 0.5304 - val_acc: 0.7663\n",
            "Epoch 15/20\n",
            "200/200 [==============================] - 261s 1s/step - loss: 0.3262 - acc: 0.8600 - val_loss: 0.5326 - val_acc: 0.7784\n",
            "Epoch 16/20\n",
            "200/200 [==============================] - 263s 1s/step - loss: 0.3329 - acc: 0.8537 - val_loss: 0.5379 - val_acc: 0.7664\n",
            "Epoch 17/20\n",
            "200/200 [==============================] - 263s 1s/step - loss: 0.2916 - acc: 0.8797 - val_loss: 0.5065 - val_acc: 0.7624\n",
            "Epoch 18/20\n",
            "200/200 [==============================] - 261s 1s/step - loss: 0.2800 - acc: 0.8817 - val_loss: 0.5175 - val_acc: 0.7755\n",
            "Epoch 19/20\n",
            "200/200 [==============================] - 261s 1s/step - loss: 0.2622 - acc: 0.8920 - val_loss: 0.6386 - val_acc: 0.7664\n",
            "Epoch 20/20\n",
            "200/200 [==============================] - 264s 1s/step - loss: 0.2495 - acc: 0.8962 - val_loss: 0.5991 - val_acc: 0.7505\n"
          ],
          "name": "stdout"
        },
        {
          "output_type": "execute_result",
          "data": {
            "text/plain": [
              "<keras.callbacks.History at 0x7fd9e53f7cc0>"
            ]
          },
          "metadata": {
            "tags": []
          },
          "execution_count": 4
        }
      ]
    }
  ]
}